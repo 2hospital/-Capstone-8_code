{
 "cells": [
  {
   "cell_type": "markdown",
   "metadata": {
    "colab_type": "text",
    "id": "view-in-github"
   },
   "source": [
    "<a href=\"https://colab.research.google.com/github/doyeo-n/-Capstone-8_code/blob/main/%5B8%5D%EC%95%84%EB%91%90%EC%9D%B4%EB%85%B8_%ED%95%98%EB%93%9C%EC%9B%A8%EC%96%B4%EC%BD%94%EB%94%A9_%EC%BD%94%EB%93%9C.ipynb\" target=\"_parent\"><img src=\"https://colab.research.google.com/assets/colab-badge.svg\" alt=\"Open In Colab\"/></a>"
   ]
  },
  {
   "cell_type": "code",
   "execution_count": null,
   "metadata": {
    "id": "jK80NWkXc4zT"
   },
   "outputs": [],
   "source": [
    "import serial\n",
    "import time\n",
    "import pandas as pd\n",
    "\n",
    "ser = serial.Serial('COM3', 9600)\n",
    "\n",
    "num = pd.read_csv('cyan_values_ndays.csv').iloc[0,0]\n",
    "\n",
    "while True:\n",
    "    if ser.readable():\n",
    "        if num >= 1000000:\n",
    "            val = '3'\n",
    "        elif num >= 10000:\n",
    "            val = '2'\n",
    "        elif num >= 1000:\n",
    "            val = '1'\n",
    "        else:\n",
    "            val = '0'\n",
    "\n",
    "    if val =='3':\n",
    "        val = val.encode('utf-8')\n",
    "        ser.write(val)\n",
    "        print('RED TURNED ON')\n",
    "        time.sleep(1)\n",
    "    \n",
    "    elif val =='2':\n",
    "        val = val.encode('utf-8')\n",
    "        ser.write(val)\n",
    "        print('ORANGE TURNED ON')\n",
    "        time.sleep(1)\n",
    "\n",
    "    elif val =='1':\n",
    "        val = val.encode('utf-8')\n",
    "        ser.write(val)\n",
    "        print('YELLOW TURNED ON')\n",
    "        time.sleep(1)\n",
    "\n",
    "    else:\n",
    "        val = val.encode('utf-8')\n",
    "        ser.write(val)\n",
    "        print('GREEN TURNED ON')\n",
    "        time.sleep(1)"
   ]
  }
 ],
 "metadata": {
  "colab": {
   "authorship_tag": "ABX9TyNLePUJwE3aqtVUHFFrZKHv",
   "include_colab_link": true,
   "name": "[8]아두이노 하드웨어코딩 코드",
   "provenance": []
  },
  "kernelspec": {
   "display_name": "Python 3 (ipykernel)",
   "language": "python",
   "name": "python3"
  },
  "language_info": {
   "codemirror_mode": {
    "name": "ipython",
    "version": 3
   },
   "file_extension": ".py",
   "mimetype": "text/x-python",
   "name": "python",
   "nbconvert_exporter": "python",
   "pygments_lexer": "ipython3",
   "version": "3.8.12"
  }
 },
 "nbformat": 4,
 "nbformat_minor": 1
}
