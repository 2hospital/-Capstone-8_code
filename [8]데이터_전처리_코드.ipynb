{
  "nbformat": 4,
  "nbformat_minor": 0,
  "metadata": {
    "colab": {
      "name": "[8]데이터 전처리 코드",
      "provenance": [],
      "authorship_tag": "ABX9TyPhecfZQljvmOOfUEcMT8an",
      "include_colab_link": true
    },
    "kernelspec": {
      "name": "python3",
      "display_name": "Python 3"
    },
    "language_info": {
      "name": "python"
    }
  },
  "cells": [
    {
      "cell_type": "markdown",
      "metadata": {
        "id": "view-in-github",
        "colab_type": "text"
      },
      "source": [
        "<a href=\"https://colab.research.google.com/github/doyeo-n/-Capstone-8_code/blob/main/%5B8%5D%EB%8D%B0%EC%9D%B4%ED%84%B0_%EC%A0%84%EC%B2%98%EB%A6%AC_%EC%BD%94%EB%93%9C.ipynb\" target=\"_parent\"><img src=\"https://colab.research.google.com/assets/colab-badge.svg\" alt=\"Open In Colab\"/></a>"
      ]
    },
    {
      "cell_type": "code",
      "execution_count": null,
      "metadata": {
        "id": "IJ76dF3NYiCB"
      },
      "outputs": [],
      "source": [
        "import requests\n",
        "import pandas as pd\n",
        "from bs4 import BeautifulSoup\n",
        "import os\n",
        "from datetime import datetime, timedelta\n",
        "from dateutil.relativedelta import relativedelta\n",
        "from tqdm import tqdm\n",
        "\n",
        "os.chdir(os.path.abspath(os.path.dirname(__file__)))\n",
        "\n",
        "df = pd.read_excel('../근접관측소.xlsx')\n",
        "\n",
        "columns_eng = pd.read_csv('columns_eng.txt',header=None,squeeze=True)\n",
        "columns_kor = pd.read_csv('columns_kor.txt',header=None,squeeze=True)\n",
        "columns_eng = [i.lower() for i in columns_eng]\n",
        "\n",
        "key = 'jPrjYNkvcwQd2Fxv3MuT76uexWMio7m5%2BFgUlrk88LRp29Aq6rm98hJguk%2BOkQ9CRt4ho18rhBim1P4NNcr2lA%3D%3D'\n",
        "\n",
        "start = datetime(2005,1,1).date()\n",
        "end = datetime.now().date()-timedelta(1)\n",
        "\n",
        "numOfRows = '370'\n",
        "dataCd = 'ASOS'\n",
        "dateCd = 'DAY'\n",
        "\n",
        "pbar = tqdm(df['근접관측소코드(기상)'].drop_duplicates())\n",
        "idx = df['근접관측소코드(기상)'].drop_duplicates().drop_duplicates().index\n",
        "i = 0\n",
        "\n",
        "\n",
        "for code in pbar:\n",
        "    \n",
        "    current = start\n",
        "    data = {}\n",
        "    pbar.set_description(df['근접관측소명(기상)'][idx[i]])\n",
        "    \n",
        "    while (current < end):\n",
        "        \n",
        "        first = current.strftime('%Y%m%d')\n",
        "        \n",
        "        if current.year == 2021:\n",
        "            last = end.strftime('%Y%m%d')\n",
        "        else:\n",
        "            last = (current+relativedelta(years=1)-timedelta(1)).strftime('%Y%m%d')\n",
        "        \n",
        "        queryParams = 'servicekey='+key+'&numOfRows='+numOfRows+'&dataCd='+dataCd+'&dateCd='\\\n",
        "        +dateCd+'&startDt='+first+'&endDt='+last+'&stnIds='+str(code)\n",
        "        \n",
        "        url = 'http://apis.data.go.kr/1360000/AsosDalyInfoService/getWthrDataList?'+queryParams\n",
        "        \n",
        "        req = requests.get(url,allow_redirects=False)\n",
        "        html = req.text\n",
        "        soup = BeautifulSoup(html, 'html.parser')\n",
        "        \n",
        "        for each in columns_eng:\n",
        "            finded = soup.find_all(each)\n",
        "            \n",
        "            if data.get(each) is None:\n",
        "                data[each] = [x.text for x in finded]\n",
        "            else:\n",
        "                data[each] = data[each] + [x.text for x in finded]\n",
        "        \n",
        "        current += relativedelta(years=1)\n",
        "        \n",
        "    result = pd.DataFrame(data)\n",
        "    result.columns = columns_kor\n",
        "    result.to_excel(df['근접관측소명(기상)'][idx[i]]+'.xlsx',index=None)\n",
        "    \n",
        "    i += 1"
      ]
    }
  ]
}