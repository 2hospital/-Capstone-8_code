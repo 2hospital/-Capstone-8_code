{
 "cells": [
  {
   "cell_type": "markdown",
   "metadata": {
    "colab_type": "text",
    "id": "view-in-github"
   },
   "source": [
    "<a href=\"https://colab.research.google.com/github/doyeo-n/-Capstone-8_code/blob/main/%5B8%5D%EC%95%84%EB%91%90%EC%9D%B4%EB%85%B8_%ED%95%98%EB%93%9C%EC%9B%A8%EC%96%B4%EC%BD%94%EB%94%A9_%EC%BD%94%EB%93%9C.ipynb\" target=\"_parent\"><img src=\"https://colab.research.google.com/assets/colab-badge.svg\" alt=\"Open In Colab\"/></a>"
   ]
  },
  {
   "cell_type": "code",
   "execution_count": null,
   "metadata": {
    "id": "jK80NWkXc4zT"
   },
   "outputs": [],
   "source": [
    "int red = 9;\n",
    "int green = 10;\n",
    "int blue = 11;\n",
    "int input_data;\n",
    "\n",
    "void setup() {\n",
    "  Serial.begin(9600);\n",
    "  pinMode(red, OUTPUT);\n",
    "  pinMode(green, OUTPUT);\n",
    "  pinMode(blue, OUTPUT);\n",
    "}\n",
    "\n",
    "void loop() {\n",
    "  // put your main code here, to run repeatedly:\n",
    "\n",
    "  while(Serial.available()){\n",
    "    input_data = Serial.read();\n",
    "  }\n",
    "\n",
    "  if(input_data == '3'){\n",
    "    digitalWrite(9, HIGH); //red on\n",
    "    digitalWrite(10, LOW);\n",
    "    digitalWrite(11, LOW);\n",
    "  }\n",
    "  else if(input_data == '2'){\n",
    "    analogWrite(10, 40); //orange on\n",
    "    analogWrite(9, 255);\n",
    "    digitalWrite(11, LOW);\n",
    "  }\n",
    "  else if(input_data == '1'){\n",
    "    digitalWrite(11, LOW); //yellow on\n",
    "    analogWrite(9, 255);\n",
    "    analogWrite(10, 100);\n",
    "  }\n",
    "  else if(input_data == '0'){\n",
    "    digitalWrite(9,LOW); //green on\n",
    "    digitalWrite(10,HIGH);\n",
    "    digitalWrite(11,LOW);\n",
    "  }\n",
    "}"
   ]
  }
 ],
 "metadata": {
  "colab": {
   "authorship_tag": "ABX9TyNLePUJwE3aqtVUHFFrZKHv",
   "include_colab_link": true,
   "name": "[8]아두이노 하드웨어코딩 코드",
   "provenance": []
  },
  "kernelspec": {
   "display_name": "Python 3 (ipykernel)",
   "language": "python",
   "name": "python3"
  },
  "language_info": {
   "codemirror_mode": {
    "name": "ipython",
    "version": 3
   },
   "file_extension": ".py",
   "mimetype": "text/x-python",
   "name": "python",
   "nbconvert_exporter": "python",
   "pygments_lexer": "ipython3",
   "version": "3.8.12"
  }
 },
 "nbformat": 4,
 "nbformat_minor": 1
}
